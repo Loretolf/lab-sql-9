{
 "cells": [
  {
   "cell_type": "code",
   "execution_count": 1,
   "metadata": {},
   "outputs": [],
   "source": [
    "#Alternative Lab 2.09. Logistic regression"
   ]
  },
  {
   "cell_type": "code",
   "execution_count": 2,
   "metadata": {},
   "outputs": [
    {
     "name": "stdout",
     "output_type": "stream",
     "text": [
      "········\n"
     ]
    }
   ],
   "source": [
    "import pymysql\n",
    "from sqlalchemy import create_engine\n",
    "import pandas as pd\n",
    "import numpy as np\n",
    "\n",
    "from matplotlib import pyplot as plt\n",
    "import seaborn as sns\n",
    "from sklearn.metrics import confusion_matrix\n",
    "from sklearn.model_selection import train_test_split\n",
    "from sklearn.linear_model import LogisticRegression\n",
    "from sklearn.preprocessing import StandardScaler\n",
    "\n",
    "import getpass  # to get the password without showing the input\n",
    "password = getpass.getpass()\n",
    "\n",
    "connection_string = 'mysql+pymysql://root:' + password + '@localhost/sakila'\n",
    "engine = create_engine(connection_string)"
   ]
  },
  {
   "cell_type": "code",
   "execution_count": 3,
   "metadata": {},
   "outputs": [
    {
     "data": {
      "text/html": [
       "<div>\n",
       "<style scoped>\n",
       "    .dataframe tbody tr th:only-of-type {\n",
       "        vertical-align: middle;\n",
       "    }\n",
       "\n",
       "    .dataframe tbody tr th {\n",
       "        vertical-align: top;\n",
       "    }\n",
       "\n",
       "    .dataframe thead th {\n",
       "        text-align: right;\n",
       "    }\n",
       "</style>\n",
       "<table border=\"1\" class=\"dataframe\">\n",
       "  <thead>\n",
       "    <tr style=\"text-align: right;\">\n",
       "      <th></th>\n",
       "      <th>inventory_id</th>\n",
       "      <th>film_id</th>\n",
       "      <th>TimesRented</th>\n",
       "      <th>rental_date</th>\n",
       "      <th>title</th>\n",
       "      <th>rating</th>\n",
       "    </tr>\n",
       "  </thead>\n",
       "  <tbody>\n",
       "    <tr>\n",
       "      <th>0</th>\n",
       "      <td>1</td>\n",
       "      <td>1</td>\n",
       "      <td>24</td>\n",
       "      <td>2005-07-08 19:03:15</td>\n",
       "      <td>ACADEMY DINOSAUR</td>\n",
       "      <td>PG</td>\n",
       "    </tr>\n",
       "    <tr>\n",
       "      <th>1</th>\n",
       "      <td>9</td>\n",
       "      <td>2</td>\n",
       "      <td>7</td>\n",
       "      <td>2005-08-01 04:24:47</td>\n",
       "      <td>ACE GOLDFINGER</td>\n",
       "      <td>G</td>\n",
       "    </tr>\n",
       "    <tr>\n",
       "      <th>2</th>\n",
       "      <td>12</td>\n",
       "      <td>3</td>\n",
       "      <td>12</td>\n",
       "      <td>2005-07-27 01:21:19</td>\n",
       "      <td>ADAPTATION HOLES</td>\n",
       "      <td>NC-17</td>\n",
       "    </tr>\n",
       "    <tr>\n",
       "      <th>3</th>\n",
       "      <td>16</td>\n",
       "      <td>4</td>\n",
       "      <td>23</td>\n",
       "      <td>2005-07-12 02:40:41</td>\n",
       "      <td>AFFAIR PREJUDICE</td>\n",
       "      <td>G</td>\n",
       "    </tr>\n",
       "    <tr>\n",
       "      <th>4</th>\n",
       "      <td>23</td>\n",
       "      <td>5</td>\n",
       "      <td>12</td>\n",
       "      <td>2005-05-28 07:53:38</td>\n",
       "      <td>AFRICAN EGG</td>\n",
       "      <td>G</td>\n",
       "    </tr>\n",
       "    <tr>\n",
       "      <th>...</th>\n",
       "      <td>...</td>\n",
       "      <td>...</td>\n",
       "      <td>...</td>\n",
       "      <td>...</td>\n",
       "      <td>...</td>\n",
       "      <td>...</td>\n",
       "    </tr>\n",
       "    <tr>\n",
       "      <th>953</th>\n",
       "      <td>4563</td>\n",
       "      <td>996</td>\n",
       "      <td>7</td>\n",
       "      <td>2005-07-08 23:51:26</td>\n",
       "      <td>YOUNG LANGUAGE</td>\n",
       "      <td>G</td>\n",
       "    </tr>\n",
       "    <tr>\n",
       "      <th>954</th>\n",
       "      <td>4565</td>\n",
       "      <td>997</td>\n",
       "      <td>6</td>\n",
       "      <td>2005-07-27 10:21:15</td>\n",
       "      <td>YOUTH KICK</td>\n",
       "      <td>NC-17</td>\n",
       "    </tr>\n",
       "    <tr>\n",
       "      <th>955</th>\n",
       "      <td>4567</td>\n",
       "      <td>998</td>\n",
       "      <td>9</td>\n",
       "      <td>2005-06-17 03:19:20</td>\n",
       "      <td>ZHIVAGO CORE</td>\n",
       "      <td>NC-17</td>\n",
       "    </tr>\n",
       "    <tr>\n",
       "      <th>956</th>\n",
       "      <td>4569</td>\n",
       "      <td>999</td>\n",
       "      <td>17</td>\n",
       "      <td>2005-07-06 11:40:27</td>\n",
       "      <td>ZOOLANDER FICTION</td>\n",
       "      <td>R</td>\n",
       "    </tr>\n",
       "    <tr>\n",
       "      <th>957</th>\n",
       "      <td>4574</td>\n",
       "      <td>1000</td>\n",
       "      <td>31</td>\n",
       "      <td>2005-07-12 21:46:33</td>\n",
       "      <td>ZORRO ARK</td>\n",
       "      <td>NC-17</td>\n",
       "    </tr>\n",
       "  </tbody>\n",
       "</table>\n",
       "<p>958 rows × 6 columns</p>\n",
       "</div>"
      ],
      "text/plain": [
       "     inventory_id  film_id  TimesRented         rental_date  \\\n",
       "0               1        1           24 2005-07-08 19:03:15   \n",
       "1               9        2            7 2005-08-01 04:24:47   \n",
       "2              12        3           12 2005-07-27 01:21:19   \n",
       "3              16        4           23 2005-07-12 02:40:41   \n",
       "4              23        5           12 2005-05-28 07:53:38   \n",
       "..            ...      ...          ...                 ...   \n",
       "953          4563      996            7 2005-07-08 23:51:26   \n",
       "954          4565      997            6 2005-07-27 10:21:15   \n",
       "955          4567      998            9 2005-06-17 03:19:20   \n",
       "956          4569      999           17 2005-07-06 11:40:27   \n",
       "957          4574     1000           31 2005-07-12 21:46:33   \n",
       "\n",
       "                 title rating  \n",
       "0     ACADEMY DINOSAUR     PG  \n",
       "1       ACE GOLDFINGER      G  \n",
       "2     ADAPTATION HOLES  NC-17  \n",
       "3     AFFAIR PREJUDICE      G  \n",
       "4          AFRICAN EGG      G  \n",
       "..                 ...    ...  \n",
       "953     YOUNG LANGUAGE      G  \n",
       "954         YOUTH KICK  NC-17  \n",
       "955       ZHIVAGO CORE  NC-17  \n",
       "956  ZOOLANDER FICTION      R  \n",
       "957          ZORRO ARK  NC-17  \n",
       "\n",
       "[958 rows x 6 columns]"
      ]
     },
     "execution_count": 3,
     "metadata": {},
     "output_type": "execute_result"
    }
   ],
   "source": [
    "query='''select a.inventory_id, a.film_id, count(l.rental_id) as 'TimesRented', l.rental_date, f.title, f.rating from inventory a\n",
    "left join rental l on a.inventory_id = l.inventory_id\n",
    "left join film f on a.film_id = f.film_id\n",
    "group by f.title;'''\n",
    "\n",
    "data=pd.read_sql_query(query,engine)\n",
    "data"
   ]
  },
  {
   "cell_type": "code",
   "execution_count": 4,
   "metadata": {},
   "outputs": [
    {
     "data": {
      "text/plain": [
       "((958, 6),\n",
       " inventory_id             int64\n",
       " film_id                  int64\n",
       " TimesRented              int64\n",
       " rental_date     datetime64[ns]\n",
       " title                   object\n",
       " rating                  object\n",
       " dtype: object)"
      ]
     },
     "execution_count": 4,
     "metadata": {},
     "output_type": "execute_result"
    }
   ],
   "source": [
    "data.shape, data.dtypes"
   ]
  },
  {
   "cell_type": "code",
   "execution_count": 5,
   "metadata": {},
   "outputs": [
    {
     "data": {
      "text/plain": [
       "inventory_id    0\n",
       "film_id         0\n",
       "TimesRented     0\n",
       "rental_date     0\n",
       "title           0\n",
       "rating          0\n",
       "dtype: int64"
      ]
     },
     "execution_count": 5,
     "metadata": {},
     "output_type": "execute_result"
    }
   ],
   "source": [
    "data.isna().sum()"
   ]
  },
  {
   "cell_type": "code",
   "execution_count": 6,
   "metadata": {},
   "outputs": [
    {
     "data": {
      "text/html": [
       "<div>\n",
       "<style scoped>\n",
       "    .dataframe tbody tr th:only-of-type {\n",
       "        vertical-align: middle;\n",
       "    }\n",
       "\n",
       "    .dataframe tbody tr th {\n",
       "        vertical-align: top;\n",
       "    }\n",
       "\n",
       "    .dataframe thead th {\n",
       "        text-align: right;\n",
       "    }\n",
       "</style>\n",
       "<table border=\"1\" class=\"dataframe\">\n",
       "  <thead>\n",
       "    <tr style=\"text-align: right;\">\n",
       "      <th></th>\n",
       "      <th>inventory_id</th>\n",
       "      <th>film_id</th>\n",
       "      <th>TimesRented</th>\n",
       "    </tr>\n",
       "  </thead>\n",
       "  <tbody>\n",
       "    <tr>\n",
       "      <th>count</th>\n",
       "      <td>958.000000</td>\n",
       "      <td>958.000000</td>\n",
       "      <td>958.000000</td>\n",
       "    </tr>\n",
       "    <tr>\n",
       "      <th>mean</th>\n",
       "      <td>2296.699374</td>\n",
       "      <td>502.598121</td>\n",
       "      <td>16.748434</td>\n",
       "    </tr>\n",
       "    <tr>\n",
       "      <th>std</th>\n",
       "      <td>1317.853616</td>\n",
       "      <td>287.541738</td>\n",
       "      <td>6.677241</td>\n",
       "    </tr>\n",
       "    <tr>\n",
       "      <th>min</th>\n",
       "      <td>1.000000</td>\n",
       "      <td>1.000000</td>\n",
       "      <td>4.000000</td>\n",
       "    </tr>\n",
       "    <tr>\n",
       "      <th>25%</th>\n",
       "      <td>1159.750000</td>\n",
       "      <td>256.250000</td>\n",
       "      <td>11.000000</td>\n",
       "    </tr>\n",
       "    <tr>\n",
       "      <th>50%</th>\n",
       "      <td>2322.000000</td>\n",
       "      <td>504.500000</td>\n",
       "      <td>16.000000</td>\n",
       "    </tr>\n",
       "    <tr>\n",
       "      <th>75%</th>\n",
       "      <td>3427.500000</td>\n",
       "      <td>751.750000</td>\n",
       "      <td>22.000000</td>\n",
       "    </tr>\n",
       "    <tr>\n",
       "      <th>max</th>\n",
       "      <td>4574.000000</td>\n",
       "      <td>1000.000000</td>\n",
       "      <td>34.000000</td>\n",
       "    </tr>\n",
       "  </tbody>\n",
       "</table>\n",
       "</div>"
      ],
      "text/plain": [
       "       inventory_id      film_id  TimesRented\n",
       "count    958.000000   958.000000   958.000000\n",
       "mean    2296.699374   502.598121    16.748434\n",
       "std     1317.853616   287.541738     6.677241\n",
       "min        1.000000     1.000000     4.000000\n",
       "25%     1159.750000   256.250000    11.000000\n",
       "50%     2322.000000   504.500000    16.000000\n",
       "75%     3427.500000   751.750000    22.000000\n",
       "max     4574.000000  1000.000000    34.000000"
      ]
     },
     "execution_count": 6,
     "metadata": {},
     "output_type": "execute_result"
    }
   ],
   "source": [
    "data.describe()"
   ]
  },
  {
   "cell_type": "code",
   "execution_count": 7,
   "metadata": {},
   "outputs": [
    {
     "name": "stdout",
     "output_type": "stream",
     "text": [
      "REMEMBER DIARY       1\n",
      "HOME PITY            1\n",
      "MALTESE HOPE         1\n",
      "MAGUIRE APACHE       1\n",
      "VOLCANO TEXAS        1\n",
      "                    ..\n",
      "MOB DUFFEL           1\n",
      "LIFE TWISTED         1\n",
      "CHICAGO NORTH        1\n",
      "CRUSADE HONEY        1\n",
      "PERSONAL LADYBUGS    1\n",
      "Name: title, Length: 958, dtype: int64 \n",
      "\n",
      "PG-13    213\n",
      "NC-17    202\n",
      "R        189\n",
      "PG       183\n",
      "G        171\n",
      "Name: rating, dtype: int64 \n",
      "\n"
     ]
    }
   ],
   "source": [
    "for col in data.select_dtypes('object'):\n",
    "    print(data[col].value_counts(), '\\n')"
   ]
  },
  {
   "cell_type": "code",
   "execution_count": 8,
   "metadata": {},
   "outputs": [],
   "source": [
    "#movies=data[col].value_counts()"
   ]
  },
  {
   "cell_type": "code",
   "execution_count": 9,
   "metadata": {},
   "outputs": [],
   "source": [
    "#movies=pd.DataFrame(movies).reset_index()"
   ]
  },
  {
   "cell_type": "code",
   "execution_count": 10,
   "metadata": {},
   "outputs": [],
   "source": [
    "#movies.columns=['Title','Times']\n",
    "#movies"
   ]
  },
  {
   "cell_type": "code",
   "execution_count": 11,
   "metadata": {},
   "outputs": [
    {
     "data": {
      "image/png": "[encoded data removed]",
      "text/plain": [
       "<Figure size 720x576 with 2 Axes>"
      ]
     },
     "metadata": {
      "needs_background": "light"
     },
     "output_type": "display_data"
    }
   ],
   "source": [
    "corr_matrix=data.corr(method='pearson')  # default\n",
    "fig, ax = plt.subplots(figsize=(10, 8))\n",
    "ax = sns.heatmap(corr_matrix, annot=True)\n",
    "plt.show()"
   ]
  },
  {
   "cell_type": "code",
   "execution_count": 15,
   "metadata": {},
   "outputs": [],
   "source": [
    "data1 = data.copy()\n",
    "data1=data1.drop('rental_date', axis=1)\n",
    "data1 = pd.get_dummies(data1, columns=['title'])"
   ]
  },
  {
   "cell_type": "code",
   "execution_count": 16,
   "metadata": {},
   "outputs": [],
   "source": [
    "y = data1['rating']\n",
    "X = data1.drop('rating', axis=1)"
   ]
  },
  {
   "cell_type": "code",
   "execution_count": 17,
   "metadata": {},
   "outputs": [],
   "source": [
    "X_train, X_test, y_train, y_test = train_test_split(X, y, test_size=0.2, random_state=42)"
   ]
  },
  {
   "cell_type": "code",
   "execution_count": 18,
   "metadata": {},
   "outputs": [
    {
     "data": {
      "text/plain": [
       "LogisticRegression(random_state=42)"
      ]
     },
     "execution_count": 18,
     "metadata": {},
     "output_type": "execute_result"
    }
   ],
   "source": [
    "classification = LogisticRegression(random_state=42)\n",
    "\n",
    "classification.fit(X_train, y_train)"
   ]
  },
  {
   "cell_type": "code",
   "execution_count": 19,
   "metadata": {},
   "outputs": [
    {
     "data": {
      "text/plain": [
       "0.21354166666666666"
      ]
     },
     "execution_count": 19,
     "metadata": {},
     "output_type": "execute_result"
    }
   ],
   "source": [
    "classification.score(X_test, y_test)"
   ]
  },
  {
   "cell_type": "code",
   "execution_count": 20,
   "metadata": {},
   "outputs": [
    {
     "data": {
      "text/plain": [
       "836        G\n",
       "477        R\n",
       "350        G\n",
       "891        R\n",
       "855       PG\n",
       "       ...  \n",
       "462        R\n",
       "673    NC-17\n",
       "33        PG\n",
       "31     NC-17\n",
       "714    PG-13\n",
       "Name: rating, Length: 192, dtype: object"
      ]
     },
     "execution_count": 20,
     "metadata": {},
     "output_type": "execute_result"
    }
   ],
   "source": [
    "y_test"
   ]
  },
  {
   "cell_type": "code",
   "execution_count": 21,
   "metadata": {},
   "outputs": [
    {
     "data": {
      "text/plain": [
       "array(['PG-13', 'PG-13', 'PG-13', 'PG-13', 'PG-13', 'PG', 'PG', 'NC-17',\n",
       "       'NC-17', 'PG-13', 'PG-13', 'NC-17', 'PG', 'PG-13', 'PG-13',\n",
       "       'PG-13', 'R', 'R', 'PG-13', 'PG-13', 'PG-13', 'NC-17', 'PG-13',\n",
       "       'NC-17', 'PG-13', 'NC-17', 'PG', 'PG-13', 'PG-13', 'NC-17',\n",
       "       'PG-13', 'NC-17', 'PG-13', 'NC-17', 'PG-13', 'PG-13', 'PG-13',\n",
       "       'NC-17', 'PG-13', 'PG-13', 'PG-13', 'NC-17', 'PG-13', 'PG',\n",
       "       'NC-17', 'PG-13', 'NC-17', 'NC-17', 'PG-13', 'PG', 'PG-13',\n",
       "       'PG-13', 'PG', 'PG-13', 'R', 'PG', 'NC-17', 'PG-13', 'PG-13',\n",
       "       'NC-17', 'PG', 'NC-17', 'PG-13', 'NC-17', 'PG', 'R', 'NC-17',\n",
       "       'PG-13', 'PG-13', 'PG-13', 'PG-13', 'PG', 'PG-13', 'PG-13', 'PG',\n",
       "       'R', 'NC-17', 'PG-13', 'PG', 'PG-13', 'NC-17', 'PG-13', 'PG-13',\n",
       "       'NC-17', 'PG-13', 'PG-13', 'PG-13', 'PG-13', 'NC-17', 'PG-13', 'R',\n",
       "       'PG-13', 'PG-13', 'PG-13', 'NC-17', 'PG-13', 'PG-13', 'NC-17',\n",
       "       'PG-13', 'NC-17', 'PG-13', 'PG', 'PG-13', 'PG', 'PG-13', 'PG-13',\n",
       "       'PG', 'PG-13', 'PG', 'NC-17', 'PG-13', 'PG-13', 'PG-13', 'PG-13',\n",
       "       'NC-17', 'PG-13', 'PG', 'PG-13', 'PG-13', 'PG-13', 'PG-13',\n",
       "       'PG-13', 'G', 'PG-13', 'PG-13', 'R', 'PG-13', 'NC-17', 'PG-13',\n",
       "       'R', 'PG-13', 'PG-13', 'PG-13', 'R', 'PG-13', 'NC-17', 'NC-17',\n",
       "       'PG-13', 'PG-13', 'PG-13', 'R', 'PG-13', 'PG', 'NC-17', 'PG-13',\n",
       "       'PG-13', 'PG-13', 'PG-13', 'NC-17', 'PG-13', 'R', 'PG-13', 'PG-13',\n",
       "       'PG-13', 'PG-13', 'PG-13', 'PG-13', 'PG-13', 'PG-13', 'NC-17',\n",
       "       'PG-13', 'PG-13', 'PG-13', 'R', 'PG', 'PG-13', 'R', 'NC-17',\n",
       "       'NC-17', 'PG', 'NC-17', 'PG', 'PG-13', 'PG', 'PG-13', 'PG',\n",
       "       'PG-13', 'NC-17', 'NC-17', 'PG', 'PG', 'PG-13', 'PG-13', 'PG-13',\n",
       "       'PG-13', 'NC-17', 'PG-13', 'R', 'PG', 'NC-17', 'NC-17', 'PG-13'],\n",
       "      dtype=object)"
      ]
     },
     "execution_count": 21,
     "metadata": {},
     "output_type": "execute_result"
    }
   ],
   "source": [
    "predictions = classification.predict(X_test)\n",
    "predictions"
   ]
  },
  {
   "cell_type": "code",
   "execution_count": 22,
   "metadata": {},
   "outputs": [
    {
     "data": {
      "text/plain": [
       "array([[0.13180109, 0.21268714, 0.16114167, 0.25737286, 0.23699724],\n",
       "       [0.15058914, 0.20067205, 0.17260217, 0.23896637, 0.23717027],\n",
       "       [0.16749111, 0.20178544, 0.18764442, 0.22567509, 0.21740394],\n",
       "       [0.12235319, 0.1989137 , 0.16375232, 0.26775418, 0.2472266 ],\n",
       "       [0.12877583, 0.21232869, 0.15712805, 0.25974189, 0.24202554],\n",
       "       [0.18993257, 0.19384552, 0.23059272, 0.20823939, 0.17738981],\n",
       "       [0.20447351, 0.20234599, 0.23466301, 0.19666847, 0.16184902],\n",
       "       [0.17880839, 0.21999517, 0.18014017, 0.21573951, 0.20531676],\n",
       "       [0.20094617, 0.21541308, 0.1888077 , 0.19912047, 0.19571258],\n",
       "       [0.12179176, 0.20339474, 0.1547268 , 0.26638612, 0.25370058],\n",
       "       [0.16518802, 0.20394279, 0.21131893, 0.22955296, 0.1899973 ],\n",
       "       [0.21572607, 0.23983094, 0.17522669, 0.18689586, 0.18232044],\n",
       "       [0.20481601, 0.21400746, 0.21631314, 0.19683476, 0.16802862],\n",
       "       [0.11889118, 0.17302648, 0.20412963, 0.27583236, 0.22812034],\n",
       "       [0.17148157, 0.21549806, 0.20693513, 0.22377794, 0.18230731],\n",
       "       [0.16438746, 0.19323052, 0.22287265, 0.2301635 , 0.18934587],\n",
       "       [0.19571698, 0.21336792, 0.17583799, 0.20162764, 0.21344947],\n",
       "       [0.14937948, 0.21534257, 0.1495175 , 0.23572341, 0.25003704],\n",
       "       [0.13858297, 0.18458632, 0.21342382, 0.25505353, 0.20835336],\n",
       "       [0.12123806, 0.18699555, 0.18026123, 0.27134016, 0.24016499],\n",
       "       [0.12070356, 0.18042753, 0.19024254, 0.27281526, 0.2358111 ],\n",
       "       [0.20167192, 0.22802121, 0.17745972, 0.19752726, 0.19531989],\n",
       "       [0.14652921, 0.18923289, 0.21795529, 0.24722065, 0.19906196],\n",
       "       [0.1776831 , 0.21798799, 0.18206141, 0.21687206, 0.20539544],\n",
       "       [0.14498701, 0.17586591, 0.23704432, 0.24793718, 0.19416558],\n",
       "       [0.20195613, 0.23908101, 0.15251721, 0.19354037, 0.21290529],\n",
       "       [0.19263499, 0.1951241 , 0.22884036, 0.20616546, 0.17723509],\n",
       "       [0.15690151, 0.21049207, 0.17276625, 0.23371884, 0.22612133],\n",
       "       [0.11945588, 0.17480079, 0.20172198, 0.27512603, 0.22889531],\n",
       "       [0.20351683, 0.20990604, 0.19859734, 0.19777536, 0.19020443],\n",
       "       [0.15798747, 0.19349935, 0.21704403, 0.2360906 , 0.19537854],\n",
       "       [0.20599773, 0.22291493, 0.18880746, 0.19533551, 0.18694437],\n",
       "       [0.16168376, 0.20708299, 0.20566877, 0.23265394, 0.19291053],\n",
       "       [0.18822454, 0.21671626, 0.17780092, 0.20776009, 0.20949819],\n",
       "       [0.12780487, 0.18856406, 0.18487014, 0.26446931, 0.23429161],\n",
       "       [0.15677088, 0.20096078, 0.21777923, 0.23748907, 0.18700003],\n",
       "       [0.1812378 , 0.21295033, 0.19186697, 0.21476488, 0.19918002],\n",
       "       [0.21029588, 0.21382681, 0.20163715, 0.19291537, 0.18132478],\n",
       "       [0.1875849 , 0.20252492, 0.19769725, 0.20977378, 0.20241915],\n",
       "       [0.12658025, 0.17988003, 0.20867538, 0.26785431, 0.21701003],\n",
       "       [0.17309848, 0.21059825, 0.21014438, 0.22248316, 0.18367573],\n",
       "       [0.21353506, 0.23460692, 0.17533561, 0.18865548, 0.18786694],\n",
       "       [0.15483087, 0.18349555, 0.23751171, 0.23856801, 0.18559386],\n",
       "       [0.16042379, 0.18950656, 0.23743276, 0.2334316 , 0.1792053 ],\n",
       "       [0.19435392, 0.22118185, 0.18044969, 0.20337036, 0.20064419],\n",
       "       [0.12516969, 0.18818994, 0.19439098, 0.26903659, 0.22321279],\n",
       "       [0.18913055, 0.22750931, 0.1812925 , 0.20747237, 0.19459528],\n",
       "       [0.19113787, 0.20901411, 0.18936461, 0.20652464, 0.20395877],\n",
       "       [0.14329112, 0.18841181, 0.21334065, 0.25034831, 0.20460811],\n",
       "       [0.15237244, 0.17782439, 0.2431392 , 0.24046402, 0.18619996],\n",
       "       [0.11897136, 0.19579209, 0.15886698, 0.27011572, 0.25625385],\n",
       "       [0.11883527, 0.17702898, 0.19000574, 0.27454892, 0.2395811 ],\n",
       "       [0.19356857, 0.19265767, 0.23701569, 0.20508096, 0.17167711],\n",
       "       [0.1791997 , 0.20720681, 0.19390784, 0.21648912, 0.20319653],\n",
       "       [0.15294912, 0.21761079, 0.15057639, 0.23276765, 0.24609605],\n",
       "       [0.16621896, 0.19006432, 0.22981561, 0.22832633, 0.18557478],\n",
       "       [0.19876322, 0.22403835, 0.18097852, 0.20007521, 0.1961447 ],\n",
       "       [0.16262915, 0.21385777, 0.20939988, 0.23184621, 0.18226699],\n",
       "       [0.16348582, 0.20612827, 0.21771078, 0.23117365, 0.18150148],\n",
       "       [0.20150816, 0.21247779, 0.1924511 , 0.19894056, 0.19462239],\n",
       "       [0.1929232 , 0.20512611, 0.21646333, 0.2061588 , 0.17932856],\n",
       "       [0.20145766, 0.2168243 , 0.20891085, 0.19936935, 0.17343783],\n",
       "       [0.14321998, 0.20550622, 0.18644408, 0.24921559, 0.21561414],\n",
       "       [0.1951926 , 0.21715101, 0.18949308, 0.2035138 , 0.19464951],\n",
       "       [0.19229537, 0.19904443, 0.22648907, 0.20650165, 0.17566947],\n",
       "       [0.150661  , 0.21542587, 0.15099934, 0.23492267, 0.24799112],\n",
       "       [0.21515385, 0.22524174, 0.19283612, 0.18890022, 0.17786806],\n",
       "       [0.12622562, 0.18457301, 0.18967207, 0.26659539, 0.2329339 ],\n",
       "       [0.16700723, 0.20737662, 0.20580262, 0.22778139, 0.19203214],\n",
       "       [0.16307294, 0.1962757 , 0.21949269, 0.23145579, 0.18970288],\n",
       "       [0.14074015, 0.18406424, 0.22109218, 0.25300236, 0.20110107],\n",
       "       [0.16272576, 0.19508135, 0.2325861 , 0.23155187, 0.17805491],\n",
       "       [0.16149295, 0.19627368, 0.22511538, 0.2329066 , 0.1842114 ],\n",
       "       [0.17661905, 0.19337927, 0.21523698, 0.21926079, 0.19550391],\n",
       "       [0.15676518, 0.17387896, 0.26714645, 0.23427577, 0.16793364],\n",
       "       [0.14401611, 0.20055935, 0.15567948, 0.24130537, 0.2584397 ],\n",
       "       [0.20655127, 0.22085365, 0.18988065, 0.1950361 , 0.18767833],\n",
       "       [0.1600986 , 0.19433705, 0.22942339, 0.23409975, 0.18204121],\n",
       "       [0.20788086, 0.20178898, 0.24052726, 0.19369912, 0.15610377],\n",
       "       [0.12799473, 0.18579734, 0.20205815, 0.26627727, 0.21787252],\n",
       "       [0.19366718, 0.21185031, 0.20997753, 0.20549238, 0.1790126 ],\n",
       "       [0.16687664, 0.22171828, 0.17825625, 0.22583449, 0.20731434],\n",
       "       [0.15765759, 0.20089661, 0.18894321, 0.23481751, 0.21768509],\n",
       "       [0.20148996, 0.21650241, 0.21208909, 0.19931657, 0.17060198],\n",
       "       [0.15565033, 0.18322509, 0.22928104, 0.23788759, 0.19395595],\n",
       "       [0.16266322, 0.20644617, 0.20860729, 0.23183602, 0.19044729],\n",
       "       [0.14811194, 0.1851674 , 0.22820448, 0.2454876 , 0.19302859],\n",
       "       [0.15369861, 0.18609643, 0.23263484, 0.23991844, 0.18765168],\n",
       "       [0.2135669 , 0.24772073, 0.16675368, 0.18721442, 0.18474427],\n",
       "       [0.15626381, 0.18531227, 0.22831102, 0.23742866, 0.19268424],\n",
       "       [0.16333035, 0.22499537, 0.15840843, 0.22559626, 0.22766959],\n",
       "       [0.14124743, 0.20820607, 0.18583542, 0.25137352, 0.21333756],\n",
       "       [0.16572764, 0.19855097, 0.2130803 , 0.2289827 , 0.19365838],\n",
       "       [0.14392228, 0.19825429, 0.20140477, 0.24960641, 0.20681225],\n",
       "       [0.19230747, 0.22582144, 0.18810076, 0.20553768, 0.18823265],\n",
       "       [0.1656472 , 0.20877714, 0.20765615, 0.22908295, 0.18883655],\n",
       "       [0.13865712, 0.19206275, 0.19723095, 0.25434786, 0.21770132],\n",
       "       [0.21250938, 0.23759672, 0.17430802, 0.18916616, 0.18641973],\n",
       "       [0.16347008, 0.19017852, 0.22888488, 0.23086004, 0.18660647],\n",
       "       [0.21058483, 0.2209455 , 0.18980019, 0.19213199, 0.18653749],\n",
       "       [0.16604486, 0.20393275, 0.2122797 , 0.22879222, 0.18895048],\n",
       "       [0.20201268, 0.20307544, 0.22640159, 0.19895597, 0.16955433],\n",
       "       [0.11907125, 0.18103056, 0.18225537, 0.27349276, 0.24415006],\n",
       "       [0.184983  , 0.19385904, 0.2239895 , 0.21237468, 0.18479378],\n",
       "       [0.15471153, 0.197626  , 0.18735834, 0.23717148, 0.22313266],\n",
       "       [0.15950667, 0.18341002, 0.22835692, 0.23421645, 0.19450995],\n",
       "       [0.19778971, 0.21030939, 0.21719752, 0.20226295, 0.17244044],\n",
       "       [0.16445483, 0.20343   , 0.21689958, 0.23028744, 0.18492815],\n",
       "       [0.20317534, 0.21347373, 0.21901285, 0.19799179, 0.16634629],\n",
       "       [0.19130341, 0.23016078, 0.18558227, 0.20603275, 0.18692079],\n",
       "       [0.18421311, 0.21176739, 0.20022622, 0.21281933, 0.19097395],\n",
       "       [0.1748126 , 0.20868627, 0.19037369, 0.21993406, 0.20619338],\n",
       "       [0.16794113, 0.2045625 , 0.22214798, 0.22706495, 0.17828345],\n",
       "       [0.14711492, 0.17790315, 0.23826153, 0.24589247, 0.19082794],\n",
       "       [0.17629892, 0.22118459, 0.17702466, 0.21747581, 0.20801602],\n",
       "       [0.156269  , 0.18736967, 0.22419144, 0.23753059, 0.1946393 ],\n",
       "       [0.16782421, 0.20806698, 0.22862254, 0.22684676, 0.16863951],\n",
       "       [0.15995649, 0.19281088, 0.21904785, 0.23423264, 0.19395214],\n",
       "       [0.11885638, 0.17919294, 0.18533464, 0.27405244, 0.2425636 ],\n",
       "       [0.13439678, 0.20557501, 0.17532672, 0.25699954, 0.22770195],\n",
       "       [0.15825419, 0.20460311, 0.18634371, 0.23417033, 0.21662866],\n",
       "       [0.12225496, 0.17400592, 0.21279482, 0.27262667, 0.21831763],\n",
       "       [0.20897023, 0.20894871, 0.20720466, 0.19403272, 0.18084368],\n",
       "       [0.11806171, 0.19156631, 0.15952283, 0.27078236, 0.26006679],\n",
       "       [0.12685851, 0.18427419, 0.20761729, 0.26796076, 0.21328925],\n",
       "       [0.15044551, 0.21770861, 0.14705038, 0.23412085, 0.25067466],\n",
       "       [0.14384148, 0.19579239, 0.20117593, 0.24951128, 0.20967892],\n",
       "       [0.21203274, 0.22330682, 0.19146768, 0.19112147, 0.18207129],\n",
       "       [0.11721658, 0.1869149 , 0.16453369, 0.27254925, 0.25878558],\n",
       "       [0.16094377, 0.20394062, 0.17361704, 0.22959474, 0.23190384],\n",
       "       [0.16306889, 0.19150375, 0.22676155, 0.23130179, 0.18736402],\n",
       "       [0.17182505, 0.20980629, 0.21112008, 0.22361672, 0.18363186],\n",
       "       [0.1247397 , 0.19259776, 0.17964218, 0.26770087, 0.23531949],\n",
       "       [0.15654576, 0.20901233, 0.16633315, 0.23265341, 0.23545535],\n",
       "       [0.12059045, 0.17957101, 0.18215503, 0.27128624, 0.24639727],\n",
       "       [0.18783384, 0.22625822, 0.18110806, 0.20850044, 0.19629944],\n",
       "       [0.20150807, 0.22549543, 0.17912096, 0.19784355, 0.196032  ],\n",
       "       [0.16097674, 0.20135307, 0.18393771, 0.23106504, 0.22266744],\n",
       "       [0.15509679, 0.20737295, 0.20684264, 0.23897055, 0.19171708],\n",
       "       [0.18166678, 0.21386629, 0.18971291, 0.21424936, 0.20050466],\n",
       "       [0.16193232, 0.20611059, 0.17360092, 0.22886275, 0.22949342],\n",
       "       [0.16580245, 0.20424086, 0.20619917, 0.22883427, 0.19492325],\n",
       "       [0.1976878 , 0.20551538, 0.21410754, 0.20247848, 0.18021079],\n",
       "       [0.17228113, 0.22766857, 0.16339816, 0.21884401, 0.21780812],\n",
       "       [0.12889835, 0.20817077, 0.168943  , 0.26219262, 0.23179526],\n",
       "       [0.16493926, 0.21299967, 0.19987891, 0.22943838, 0.19274378],\n",
       "       [0.17161083, 0.21780847, 0.1765695 , 0.22134897, 0.21266223],\n",
       "       [0.15382844, 0.18250491, 0.23187881, 0.23959956, 0.19218829],\n",
       "       [0.19814153, 0.22654569, 0.17640301, 0.20005936, 0.19885041],\n",
       "       [0.16171882, 0.19817213, 0.20463618, 0.23228274, 0.20319014],\n",
       "       [0.14678304, 0.20484033, 0.1549425 , 0.23882588, 0.25460824],\n",
       "       [0.11798535, 0.18655297, 0.1699208 , 0.27298345, 0.25255743],\n",
       "       [0.14601448, 0.18269159, 0.22571505, 0.24744581, 0.19813307],\n",
       "       [0.1522588 , 0.19278396, 0.22210473, 0.24169837, 0.19115413],\n",
       "       [0.16998144, 0.20717988, 0.20947715, 0.22522663, 0.18813491],\n",
       "       [0.15558102, 0.20439694, 0.17849294, 0.23554226, 0.22598686],\n",
       "       [0.12824843, 0.20269974, 0.16833403, 0.26228362, 0.23843417],\n",
       "       [0.1649122 , 0.19777267, 0.21452667, 0.22973659, 0.19305187],\n",
       "       [0.11934423, 0.18565617, 0.17555423, 0.27248282, 0.24696256],\n",
       "       [0.20556898, 0.2188954 , 0.18972378, 0.19576985, 0.19004199],\n",
       "       [0.13324953, 0.20460911, 0.18889504, 0.26034104, 0.21290528],\n",
       "       [0.12230176, 0.1883251 , 0.17274691, 0.26855828, 0.24806795],\n",
       "       [0.16756037, 0.20450869, 0.21708738, 0.22746463, 0.18337892],\n",
       "       [0.15004261, 0.2177633 , 0.14636984, 0.23430128, 0.25152297],\n",
       "       [0.1647323 , 0.19180185, 0.23755691, 0.22946102, 0.17644793],\n",
       "       [0.16620839, 0.20559823, 0.20515947, 0.22845041, 0.19458349],\n",
       "       [0.14576588, 0.19978423, 0.1605755 , 0.24082203, 0.25305234],\n",
       "       [0.20852511, 0.2144593 , 0.19883219, 0.19410478, 0.18407862],\n",
       "       [0.19595266, 0.21820649, 0.1848098 , 0.20255901, 0.19847203],\n",
       "       [0.19993586, 0.19676102, 0.23399821, 0.20029021, 0.16901469],\n",
       "       [0.17402435, 0.23973676, 0.15184361, 0.21511505, 0.21928024],\n",
       "       [0.15347353, 0.18336942, 0.24122646, 0.23975116, 0.18217943],\n",
       "       [0.15965254, 0.19199731, 0.22872548, 0.23448326, 0.18514141],\n",
       "       [0.19399525, 0.21008839, 0.2127478 , 0.20526907, 0.17789948],\n",
       "       [0.16870086, 0.2159634 , 0.1711153 , 0.22295782, 0.22126262],\n",
       "       [0.20933034, 0.20656258, 0.23474426, 0.19285721, 0.1565056 ],\n",
       "       [0.13875892, 0.17933495, 0.22607719, 0.25483293, 0.20099601],\n",
       "       [0.19706028, 0.21371682, 0.2119943 , 0.20280156, 0.17442704],\n",
       "       [0.21695547, 0.23321219, 0.18290287, 0.18687315, 0.18005632],\n",
       "       [0.15653204, 0.17714334, 0.26072855, 0.2352315 , 0.17036457],\n",
       "       [0.201545  , 0.19299963, 0.24623713, 0.1982844 , 0.16093384],\n",
       "       [0.16276881, 0.19270149, 0.22766083, 0.23160438, 0.18526449],\n",
       "       [0.14990763, 0.20649107, 0.19784561, 0.24357735, 0.20217833],\n",
       "       [0.12045711, 0.20786146, 0.14469571, 0.2651534 , 0.26183232],\n",
       "       [0.16441956, 0.20314053, 0.20789529, 0.23013764, 0.19440699],\n",
       "       [0.18631644, 0.23804618, 0.16677311, 0.2078228 , 0.20104146],\n",
       "       [0.12602305, 0.19530846, 0.18655794, 0.26767876, 0.22443179],\n",
       "       [0.15054047, 0.22003646, 0.14599197, 0.23388985, 0.24954126],\n",
       "       [0.15852767, 0.18825502, 0.23916571, 0.23511987, 0.17893173],\n",
       "       [0.210707  , 0.23153661, 0.17437616, 0.19064001, 0.19274021],\n",
       "       [0.20483991, 0.22062132, 0.17988089, 0.19550364, 0.19915425],\n",
       "       [0.15718164, 0.21129499, 0.20310902, 0.23684112, 0.19157323]])"
      ]
     },
     "execution_count": 22,
     "metadata": {},
     "output_type": "execute_result"
    }
   ],
   "source": [
    "probabilities = classification.predict_proba(X_test)\n",
    "probabilities"
   ]
  },
  {
   "cell_type": "code",
   "execution_count": 23,
   "metadata": {},
   "outputs": [
    {
     "data": {
      "text/plain": [
       "array([[ 0, 11,  4, 20,  2],\n",
       "       [ 1,  7,  7, 21,  2],\n",
       "       [ 0, 11,  5, 24,  2],\n",
       "       [ 0,  6,  7, 25,  4],\n",
       "       [ 0,  7,  4, 18,  4]], dtype=int64)"
      ]
     },
     "execution_count": 23,
     "metadata": {},
     "output_type": "execute_result"
    }
   ],
   "source": [
    "confusion_matrix(y_test, predictions)"
   ]
  },
  {
   "cell_type": "code",
   "execution_count": 24,
   "metadata": {},
   "outputs": [
    {
     "data": {
      "text/plain": [
       "<AxesSubplot:>"
      ]
     },
     "execution_count": 24,
     "metadata": {},
     "output_type": "execute_result"
    },
    {
     "data": {
      "image/png": "[encoded data removed]",
      "text/plain": [
       "<Figure size 432x288 with 2 Axes>"
      ]
     },
     "metadata": {
      "needs_background": "light"
     },
     "output_type": "display_data"
    }
   ],
   "source": [
    "cf_matrix = confusion_matrix(y_test, predictions, normalize='all')\n",
    "sns.heatmap(cf_matrix, annot=True, fmt='.2%', cmap='Blues')"
   ]
  },
  {
   "cell_type": "code",
   "execution_count": null,
   "metadata": {},
   "outputs": [],
   "source": []
  }
 ],
 "metadata": {
  "kernelspec": {
   "display_name": "Python 3",
   "language": "python",
   "name": "python3"
  },
  "language_info": {
   "codemirror_mode": {
    "name": "ipython",
    "version": 3
   },
   "file_extension": ".py",
   "mimetype": "text/x-python",
   "name": "python",
   "nbconvert_exporter": "python",
   "pygments_lexer": "ipython3",
   "version": "3.8.5"
  }
 },
 "nbformat": 4,
 "nbformat_minor": 4
}
